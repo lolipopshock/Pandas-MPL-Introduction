{
 "cells": [
  {
   "cell_type": "code",
   "execution_count": null,
   "metadata": {
    "collapsed": true
   },
   "outputs": [],
   "source": [
    "import numpy as np\n",
    "import pandas as pd\n",
    "import matplotlib.pyplot as plt \n",
    "import seaborn as sns\n",
    "%matplotlib inline"
   ]
  },
  {
   "cell_type": "markdown",
   "metadata": {},
   "source": [
    "### 1.2 数据简单展示"
   ]
  },
  {
   "cell_type": "code",
   "execution_count": null,
   "metadata": {
    "collapsed": true
   },
   "outputs": [],
   "source": [
    "df = pd.read_csv('tmdb_5000_movies.csv')"
   ]
  },
  {
   "cell_type": "code",
   "execution_count": null,
   "metadata": {
    "collapsed": true
   },
   "outputs": [],
   "source": [
    "df.head(5) # 展示最前5行的数据\n",
    "df.tail(3) # 展示最后3行的数据\n",
    "df.sample(10) # 随机取出10行数据进行展示"
   ]
  },
  {
   "cell_type": "code",
   "execution_count": null,
   "metadata": {
    "collapsed": true
   },
   "outputs": [],
   "source": [
    "df.info() # 获取数据集的信息，包括有多少行、有哪些列、列对应的数据类型、数据占用空间为何\n",
    "df.columns # 获取数据集有哪些列，注意，是没有括号滴\n",
    "df.shape # 输出（行数，列数）"
   ]
  },
  {
   "cell_type": "markdown",
   "metadata": {},
   "source": [
    "### 1.3  索引（选择） DataFrame 中的数据"
   ]
  },
  {
   "cell_type": "code",
   "execution_count": null,
   "metadata": {
    "collapsed": true
   },
   "outputs": [],
   "source": [
    "df['budget'] # 取 budget 一列的数据，返回一个 Series\n",
    "df.budget # 取 budget 一列的数据，返回一个 Series\n",
    "\n",
    "df[['budget']] # 取 budget 一列的数据，返回一个 DataFrame\n",
    "df[['budget', 'popularity']] # 取 budget、popularity 两列的数据"
   ]
  },
  {
   "cell_type": "code",
   "execution_count": null,
   "metadata": {
    "collapsed": true
   },
   "outputs": [],
   "source": [
    "df.iloc[0] # 取第一行的数据（下标开始遵循 Python 习惯，从0开始），返回 Series\n",
    "df.iloc[[0]] # 取第一行的数据，返回 DataFrame\n",
    "df.iloc[[1,23]] # 取 2 和 24 行的数据\n",
    "df.iloc[:10] # 取前10行的数据\n",
    "df[:10]"
   ]
  },
  {
   "cell_type": "code",
   "execution_count": null,
   "metadata": {
    "collapsed": true
   },
   "outputs": [],
   "source": [
    "df.loc[0]\n",
    "df.loc[[0]]\n",
    "df.loc[[1,23]]\n",
    "df.loc[:10]"
   ]
  },
  {
   "cell_type": "code",
   "execution_count": null,
   "metadata": {
    "collapsed": true
   },
   "outputs": [],
   "source": [
    "dx = df.loc[:10] \n",
    "dx = dx.set_index(pd.DatetimeIndex(start='2018-01-01', end='2018-01-11', freq='1 D')) # 将 dx 的行标转换成日期，如 '2018-01-01' 等"
   ]
  },
  {
   "cell_type": "code",
   "execution_count": null,
   "metadata": {
    "collapsed": true
   },
   "outputs": [],
   "source": [
    "dx.loc['2018-01-01'] # 以 Series 返回第一行\n",
    "dx.loc[pd.date_range(start='2018-01-01', end='2018-01-05', freq='1 D')] # 返回前5行"
   ]
  },
  {
   "cell_type": "code",
   "execution_count": null,
   "metadata": {
    "collapsed": true
   },
   "outputs": [],
   "source": [
    "df.loc[df.index[0]] \n",
    "df.iloc[0]"
   ]
  }
 ],
 "metadata": {
  "kernelspec": {
   "display_name": "Python 3",
   "language": "python",
   "name": "python3"
  },
  "language_info": {
   "codemirror_mode": {
    "name": "ipython",
    "version": 3
   },
   "file_extension": ".py",
   "mimetype": "text/x-python",
   "name": "python",
   "nbconvert_exporter": "python",
   "pygments_lexer": "ipython3",
   "version": "3.6.1"
  }
 },
 "nbformat": 4,
 "nbformat_minor": 2
}
